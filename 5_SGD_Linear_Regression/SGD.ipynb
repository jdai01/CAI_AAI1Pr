{
 "cells": [
  {
   "cell_type": "markdown",
   "id": "c6fb176d",
   "metadata": {},
   "source": [
    "# Stochastic Gradient Descent - Linear Regression"
   ]
  },
  {
   "cell_type": "markdown",
   "id": "18d9da9a",
   "metadata": {},
   "source": [
    "Implement the Stochastic Gradient Descent (SGD) and update the weights of a linear regression model"
   ]
  },
  {
   "cell_type": "markdown",
   "id": "10609e29",
   "metadata": {},
   "source": [
    "## Data for the linear regression model"
   ]
  },
  {
   "cell_type": "markdown",
   "id": "d1404413",
   "metadata": {},
   "source": [
    "Use the following data for the training and evaluation of your model"
   ]
  },
  {
   "cell_type": "code",
   "execution_count": 5,
   "id": "2731c87b",
   "metadata": {},
   "outputs": [],
   "source": [
    "import numpy as np"
   ]
  },
  {
   "cell_type": "code",
   "execution_count": 6,
   "id": "55d4b730",
   "metadata": {},
   "outputs": [
    {
     "name": "stdout",
     "output_type": "stream",
     "text": [
      "data set X\n",
      " [[6 0 8]\n",
      " [9 7 7]\n",
      " [9 9 5]\n",
      " [8 8 1]\n",
      " [6 9 7]\n",
      " [1 9 0]\n",
      " [5 3 1]\n",
      " [4 7 0]\n",
      " [5 2 7]\n",
      " [6 1 6]\n",
      " [4 2 8]\n",
      " [7 5 4]\n",
      " [1 9 6]\n",
      " [6 8 3]\n",
      " [2 4 8]]\n",
      "labels y\n",
      " [5.24157644 7.85982604 7.6674491  5.47547762 7.53827703 3.36874649\n",
      " 2.98525093 3.62689474 5.19432495 4.69982074 5.21118191 5.49054437\n",
      " 5.74550285 5.68681945 5.33058001]\n"
     ]
    }
   ],
   "source": [
    "# Data points\n",
    "data_amount = 15\n",
    "max_num = 10\n",
    "X = np.random.randint(max_num, size=(data_amount, 3))\n",
    "\n",
    "# We generate them by \"knowing\" the output weights for this example (this is not the case for real data!)\n",
    "final_weights = np.random.rand(X.shape[1])\n",
    "final_weights = final_weights / np.sum(final_weights)\n",
    "\n",
    "final_bias = 0.2\n",
    "\n",
    "# Corresponding labels\n",
    "random_noise = np.random.rand(X.shape[0]) / 7.5 # ranges from 0-1. We divide that by 7.5 to not get to much noise in here\n",
    "y = np.dot(final_weights, X.T) + final_bias + random_noise\n",
    "\n",
    "print('data set X\\n', X)\n",
    "print('labels y\\n', y)"
   ]
  },
  {
   "cell_type": "markdown",
   "id": "daec3881",
   "metadata": {},
   "source": [
    "# Training and test data"
   ]
  },
  {
   "cell_type": "code",
   "execution_count": 7,
   "id": "a3b736c2",
   "metadata": {},
   "outputs": [],
   "source": [
    "train_len = int(data_amount * 0.75)\n",
    "\n",
    "# We train with the following data\n",
    "X_train = X[:train_len]\n",
    "y_train = y[:train_len]\n",
    "\n",
    "# We test / evaluate with the following data\n",
    "X_test = X[train_len:]\n",
    "y_test = y[train_len:]"
   ]
  },
  {
   "cell_type": "markdown",
   "id": "331bd43e",
   "metadata": {},
   "source": [
    "## Information about the model"
   ]
  },
  {
   "cell_type": "code",
   "execution_count": 8,
   "id": "29c436eb",
   "metadata": {},
   "outputs": [],
   "source": [
    "# We set the inital weights randomly\n",
    "weights = np.random.rand(X.shape[1])\n",
    "\n",
    "# The bias value is set to 1 initially\n",
    "bias = np.array([1])"
   ]
  },
  {
   "cell_type": "markdown",
   "id": "71627d25",
   "metadata": {},
   "source": [
    "### Some more information"
   ]
  },
  {
   "cell_type": "markdown",
   "id": "9e60e4ed",
   "metadata": {},
   "source": [
    "We know the regression equation:\n",
    "\n",
    "$y_{pred}= w_1x_1 + w_2x_2 + \\ldots + w_nx_n + b$"
   ]
  },
  {
   "cell_type": "code",
   "execution_count": 9,
   "id": "7f6c5abb",
   "metadata": {},
   "outputs": [
    {
     "name": "stdout",
     "output_type": "stream",
     "text": [
      "Outputs for our untrained model: [8.33427394 8.02859111 8.0945906  8.33655977]\n",
      "Outputs for the final model: [5.37346671 5.69992782 5.62121443 5.22919272]\n"
     ]
    }
   ],
   "source": [
    "# What are the current results of the untrained model?\n",
    "y_untrained = np.dot(weights, X_test.T) + bias\n",
    "print('Outputs for our untrained model:', y_untrained)\n",
    "\n",
    "# What are the results of the final model (that we want to achieve by updating the weights by the Stochastic gradient descent method)\n",
    "y_final = np.dot(final_weights, X_test.T) + final_bias\n",
    "print('Outputs for the final model:', y_final)"
   ]
  },
  {
   "cell_type": "markdown",
   "id": "39c3c815",
   "metadata": {},
   "source": [
    "### Loss function"
   ]
  },
  {
   "cell_type": "markdown",
   "id": "6e5958c9",
   "metadata": {},
   "source": [
    "We want to use the mean squarred error to calculate the loss for the model outputs which is defined as follows:\n",
    "\n",
    "$$MSE = \\frac{1}{n}\\sum_{i=1}^n (y_i-y_{i_{pred}})^2$$"
   ]
  },
  {
   "cell_type": "code",
   "execution_count": 10,
   "id": "d362b4e4",
   "metadata": {},
   "outputs": [],
   "source": [
    "mse = lambda y, y_pred: np.mean(np.sum((y-y_pred)**2))"
   ]
  },
  {
   "cell_type": "code",
   "execution_count": 11,
   "id": "c81268ef",
   "metadata": {},
   "outputs": [
    {
     "name": "stdout",
     "output_type": "stream",
     "text": [
      "The loss of the untrained model is: 28.132566035326086\n",
      "The loss of the final model is: 0.03036766416783028\n"
     ]
    }
   ],
   "source": [
    "# In our example the loss for our untrained model is:\n",
    "loss_untrained = mse(y_test, y_untrained)\n",
    "print('The loss of the untrained model is:', loss_untrained)\n",
    "\n",
    "# Loss for the final model\n",
    "loss_final = mse(y_test, y_final)\n",
    "print('The loss of the final model is:', loss_final)"
   ]
  },
  {
   "cell_type": "markdown",
   "id": "a2854ef6",
   "metadata": {},
   "source": [
    "## Your stochastic gradient descent implementation to optimize the weights of your model"
   ]
  },
  {
   "cell_type": "code",
   "execution_count": 12,
   "id": "decf2db5",
   "metadata": {},
   "outputs": [],
   "source": [
    "# Summary on what we know so far:\n",
    "\n",
    "# We know the loss function: Variable 'mse' (Mean squared error)\n",
    "# We know the initial weights that we want to optimize: variable 'weights'\n",
    "# We know the initial bias value: variable 'bias'"
   ]
  },
  {
   "cell_type": "code",
   "execution_count": 13,
   "id": "c87ab9df",
   "metadata": {},
   "outputs": [],
   "source": [
    "# Use the training data to optimize the weights of the linear regression model\n",
    "\n",
    "# use these variables for your sgd implementation\n",
    "learning_rate = 0.005\n",
    "iterations = 1000"
   ]
  },
  {
   "cell_type": "code",
   "execution_count": 14,
   "id": "c7122917",
   "metadata": {},
   "outputs": [],
   "source": [
    "# YOUR CODE FOR THE STOCHASTIC GRADIENT DESCENT IMPLEMENTATION\n",
    "\n",
    "def sgd(X, y, weights, bias, learning_rate, iterations):\n",
    "    for i in range(iterations):\n",
    "        for j in range(len(y)):\n",
    "            # Select one data point\n",
    "            x_i = X[j, :]\n",
    "            y_i = y[j]\n",
    "\n",
    "            # Compute prediction\n",
    "            y_pred = np.dot(weights, x_i) + bias\n",
    "\n",
    "            # Compute error\n",
    "            error = y_pred - y_i\n",
    "\n",
    "            # Update weights and bias\n",
    "            weights -= learning_rate * error * x_i\n",
    "            bias -= learning_rate * error\n",
    "\n",
    "    return weights, bias"
   ]
  },
  {
   "cell_type": "markdown",
   "id": "eda1a991",
   "metadata": {},
   "source": [
    "## Compare the results with the Test data"
   ]
  },
  {
   "cell_type": "code",
   "execution_count": 16,
   "id": "c25d3169",
   "metadata": {},
   "outputs": [
    {
     "name": "stdout",
     "output_type": "stream",
     "text": [
      "Outputs for trained model: [5.41987761 5.73080406 5.65599295 5.28015835]\n",
      "The loss of the trained model is: 0.008702463347969444\n"
     ]
    }
   ],
   "source": [
    "bias = 1.0\n",
    "\n",
    "# Test the model using SGD\n",
    "weights, bias = sgd(X_train, y_train, weights, bias, learning_rate, iterations)\n",
    "\n",
    "# Evaluate the trained model\n",
    "y_trained = np.dot(weights, X_test.T) + bias\n",
    "loss_trained = mse(y_test, y_trained)\n",
    "print('Outputs for trained model:', y_trained)\n",
    "print('The loss of the trained model is:', loss_trained)"
   ]
  }
 ],
 "metadata": {
  "kernelspec": {
   "display_name": "Python 3 (ipykernel)",
   "language": "python",
   "name": "python3"
  },
  "language_info": {
   "codemirror_mode": {
    "name": "ipython",
    "version": 3
   },
   "file_extension": ".py",
   "mimetype": "text/x-python",
   "name": "python",
   "nbconvert_exporter": "python",
   "pygments_lexer": "ipython3",
   "version": "3.9.19"
  }
 },
 "nbformat": 4,
 "nbformat_minor": 5
}
