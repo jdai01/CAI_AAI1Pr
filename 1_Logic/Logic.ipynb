{
 "cells": [
  {
   "cell_type": "markdown",
   "id": "48aa0944",
   "metadata": {},
   "source": [
    "# Exercise 1 - Logic"
   ]
  },
  {
   "cell_type": "markdown",
   "id": "3a6a7036",
   "metadata": {},
   "source": [
    "Use LaTeX commands to write logic symbols in jupyter notebook: [LaTeX logic symbols](https://en.wikipedia.org/wiki/List_of_logic_symbols)"
   ]
  },
  {
   "cell_type": "markdown",
   "id": "ee1088f4",
   "metadata": {},
   "source": [
    "## Task 1 - Warmup - Truth table"
   ]
  },
  {
   "cell_type": "markdown",
   "id": "4caddceb",
   "metadata": {},
   "source": [
    "a) Build the truth table for the following sentences. Assume that we have two arbitrary atomic sentences $\\alpha$, $\\beta$ and $\\gamma$. Fill out the missing combinations of the three sentences. How many combinations do we have for $n$ sentences?"
   ]
  },
  {
   "cell_type": "markdown",
   "id": "462e7776",
   "metadata": {},
   "source": [
    "| $\\alpha$ | $\\beta$ | $\\gamma$ | $$\\alpha \\land (\\beta \\lor \\gamma)$$ | $$(\\alpha \\lor (\\beta \\lor \\gamma))$$ | $$(\\alpha \\lor \\beta)\\land(\\alpha \\lor \\gamma)$$ |\n",
    "|:--------:|:-------:|:--------:|:----------------------------------:|:-----------------------------------:|:----------------------------------------------:|\n",
    "|   false  |  false  |   false  | false | false | false |\n",
    "|   false  |  false  |   true   | false | true | false |\n",
    "|   false  |   true  |   false  | false | true | false |\n",
    "|   true   |  false  |   false  | false | true | true |\n",
    "|   false  |   true  |   true   | false | true | true |\n",
    "|   true   |  false  |   true   | true | true | true |\n",
    "\n",
    "No. of combinations = $2^n$"
   ]
  },
  {
   "cell_type": "markdown",
   "id": "6aefd2ee",
   "metadata": {},
   "source": [
    "b) Find equivalences of the following complex sentences:\n",
    "1) $(\\alpha \\land (\\beta \\lor \\gamma)) \\equiv$ $(\\alpha \\land \\beta) \\lor (\\alpha \\land \\gamma)$\n",
    "\n",
    "2) $(\\alpha \\lor (\\beta \\lor \\gamma)) \\equiv$ $((\\alpha \\lor \\beta) \\lor \\gamma)$\n",
    "\n",
    "3) $(\\alpha \\lor \\beta)\\land(\\alpha \\lor \\gamma) \\equiv$ $(\\alpha \\lor (\\beta \\land \\gamma))$"
   ]
  },
  {
   "cell_type": "markdown",
   "id": "0bb0ad45",
   "metadata": {
    "jp-MarkdownHeadingCollapsed": true
   },
   "source": [
    "### Working for Task 1"
   ]
  },
  {
   "cell_type": "code",
   "execution_count": 19,
   "id": "66dd56f4",
   "metadata": {},
   "outputs": [
    {
     "name": "stdout",
     "output_type": "stream",
     "text": [
      "a \tb \ty \ta^(bvy) \tav(bvy) \t(avb)^(avy)\n",
      "False\tFalse\tFalse\tFalse\t\tFalse\t\tFalse\n",
      "False\tFalse\tTrue\tFalse\t\tTrue\t\tFalse\n",
      "False\tTrue\tFalse\tFalse\t\tTrue\t\tFalse\n",
      "True\tFalse\tFalse\tFalse\t\tTrue\t\tTrue\n",
      "False\tTrue\tTrue\tFalse\t\tTrue\t\tTrue\n",
      "True\tFalse\tTrue\tTrue\t\tTrue\t\tTrue\n"
     ]
    }
   ],
   "source": [
    "# Task 1a)\n",
    "\n",
    "def f1(a,b,y):\n",
    "    return a and (b or y)\n",
    "\n",
    "def f2(a, b, y):\n",
    "    return a or (b or y)\n",
    "\n",
    "def f3(a, b, y):\n",
    "    return (a or b) and (a or y)\n",
    "\n",
    "print(\"a \\tb \\ty \\ta^(bvy) \\tav(bvy) \\t(avb)^(avy)\")\n",
    "for a,b,y in [(False, False, False),\n",
    "              (False, False, True),\n",
    "              (False, True, False),\n",
    "              (True, False, False),\n",
    "              (False, True, True),\n",
    "              (True, False, True)]:\n",
    "            print(f\"{a}\\t{b}\\t{y}\\t{f1(a, b,y)}\\t\\t{f2(a,b,y)}\\t\\t{f3(a,b,y)}\")"
   ]
  },
  {
   "cell_type": "code",
   "execution_count": 7,
   "id": "ec0a9518",
   "metadata": {},
   "outputs": [
    {
     "name": "stdout",
     "output_type": "stream",
     "text": [
      "a \tb \ty \tf1 \tf2\n",
      "True\tTrue\tTrue\tTrue\tTrue\n",
      "True\tTrue\tFalse\tTrue\tTrue\n",
      "True\tFalse\tTrue\tTrue\tTrue\n",
      "True\tFalse\tFalse\tFalse\tFalse\n",
      "False\tTrue\tTrue\tFalse\tFalse\n",
      "False\tTrue\tFalse\tFalse\tFalse\n",
      "False\tFalse\tTrue\tFalse\tFalse\n",
      "False\tFalse\tFalse\tFalse\tFalse\n"
     ]
    }
   ],
   "source": [
    "# Task 1b) - 1.\n",
    "def f1(a, b, y):\n",
    "    return (a and (b or y))\n",
    "\n",
    "def f2(a, b, y):\n",
    "    return (a and b) or (a and y)\n",
    "\n",
    "print(\"a \\tb \\ty \\tf1 \\tf2\")\n",
    "for a in [True, False]:\n",
    "    for b in [True, False]:\n",
    "        for y in [True, False]:\n",
    "            print(f\"{a}\\t{b}\\t{y}\\t{f1(a,b,y)}\\t{f2(a,b,y)}\")"
   ]
  },
  {
   "cell_type": "code",
   "execution_count": 9,
   "id": "ea47d4f3",
   "metadata": {},
   "outputs": [
    {
     "name": "stdout",
     "output_type": "stream",
     "text": [
      "a \tb \ty \tf1 \tf2\n",
      "True\tTrue\tTrue\tTrue\tTrue\n",
      "True\tTrue\tFalse\tTrue\tTrue\n",
      "True\tFalse\tTrue\tTrue\tTrue\n",
      "True\tFalse\tFalse\tTrue\tTrue\n",
      "False\tTrue\tTrue\tTrue\tTrue\n",
      "False\tTrue\tFalse\tTrue\tTrue\n",
      "False\tFalse\tTrue\tTrue\tTrue\n",
      "False\tFalse\tFalse\tFalse\tFalse\n"
     ]
    }
   ],
   "source": [
    "# Task 1b) - 2.\n",
    "def f1(a, b, y):\n",
    "    return (a or (b or y))\n",
    "\n",
    "\n",
    "def f2(a, b, y):\n",
    "    return (a or b) or y\n",
    "\n",
    "\n",
    "print(\"a \\tb \\ty \\tf1 \\tf2\")\n",
    "for a in [True, False]:\n",
    "    for b in [True, False]:\n",
    "        for y in [True, False]:\n",
    "            print(f\"{a}\\t{b}\\t{y}\\t{f1(a,b,y)}\\t{f2(a,b,y)}\")"
   ]
  },
  {
   "cell_type": "code",
   "execution_count": 10,
   "id": "ecc49f60",
   "metadata": {},
   "outputs": [
    {
     "name": "stdout",
     "output_type": "stream",
     "text": [
      "a \tb \ty \tf1 \tf2\n",
      "True\tTrue\tTrue\tTrue\tTrue\n",
      "True\tTrue\tFalse\tTrue\tTrue\n",
      "True\tFalse\tTrue\tTrue\tTrue\n",
      "True\tFalse\tFalse\tTrue\tTrue\n",
      "False\tTrue\tTrue\tTrue\tTrue\n",
      "False\tTrue\tFalse\tFalse\tFalse\n",
      "False\tFalse\tTrue\tFalse\tFalse\n",
      "False\tFalse\tFalse\tFalse\tFalse\n"
     ]
    }
   ],
   "source": [
    "# Task 1b) - 3.\n",
    "def f1(a, b, y):\n",
    "    return (a or b) and (a or y)\n",
    "\n",
    "\n",
    "def f2(a, b, y):\n",
    "    return a or (b and y)\n",
    "\n",
    "\n",
    "print(\"a \\tb \\ty \\tf1 \\tf2\")\n",
    "for a in [True, False]:\n",
    "    for b in [True, False]:\n",
    "        for y in [True, False]:\n",
    "            print(f\"{a}\\t{b}\\t{y}\\t{f1(a,b,y)}\\t{f2(a,b,y)}\")"
   ]
  },
  {
   "cell_type": "markdown",
   "id": "6aa6987e",
   "metadata": {},
   "source": [
    "## Task 2 - Propositional Theorem Proving"
   ]
  },
  {
   "cell_type": "markdown",
   "id": "0ce0f8da",
   "metadata": {},
   "source": [
    "We know already that a two arbitrary sentences $\\alpha$ and $\\beta$ are equivalent if and only if each of them entails the other:\n",
    "\n",
    "$\\alpha \\equiv \\beta$ if and only if $\\alpha \\models \\beta$ and $\\beta \\models \\alpha$"
   ]
  },
  {
   "cell_type": "markdown",
   "id": "2f571861",
   "metadata": {},
   "source": [
    "a) Give an example of a tautology.\n",
    "\n",
    "> $\\alpha \\lor \\lnot \\alpha$\n",
    "\n",
    "\n",
    "b) What is the definition of the SAT problem?\n",
    "\n",
    "> The SAT problem (Boolean satisfiability problem) is the problem of determining if there exists an interpretation that satisfies a given Boolean formula.\n",
    "\n",
    "\n",
    "c) Which of the following are correct?\n",
    "\n",
    "1) $(A\\land B) \\models (A{\\Leftrightarrow}B)$ -- correct\n",
    "\n",
    "2) $A\\Leftrightarrow B \\models A \\lor B$\n",
    "\n",
    "3) $A\\Leftrightarrow B \\models \\lnot A \\lor B$ -- correct"
   ]
  },
  {
   "cell_type": "markdown",
   "id": "1c1e97e8",
   "metadata": {},
   "source": [
    "### Working for Task 2"
   ]
  },
  {
   "cell_type": "code",
   "execution_count": 8,
   "id": "949d6ac5",
   "metadata": {},
   "outputs": [
    {
     "name": "stdout",
     "output_type": "stream",
     "text": [
      "a \tnot a \ta or not a\n",
      "True\tFalse\tTrue\n",
      "False\tTrue\tTrue\n"
     ]
    }
   ],
   "source": [
    "# Task 2a)\n",
    "print(\"a \\tnot a \\ta or not a\")\n",
    "for a in [True, False]:\n",
    "    print(f\"{a}\\t{not a}\\t{a or not a}\")"
   ]
  },
  {
   "cell_type": "code",
   "execution_count": 3,
   "id": "e2788673",
   "metadata": {},
   "outputs": [
    {
     "name": "stdout",
     "output_type": "stream",
     "text": [
      "a \tb \ta^b \ta<=>b\n",
      "True\tTrue\tTrue\tTrue\n",
      "True\tFalse\tFalse\tFalse\n",
      "False\tTrue\tFalse\tFalse\n",
      "False\tFalse\tFalse\tTrue\n"
     ]
    }
   ],
   "source": [
    "# Task 2c) - 1.\n",
    "def f1(a, b):\n",
    "    return (a and b)\n",
    "\n",
    "def f2(a, b):\n",
    "    return (a and b) or (not a and not b)\n",
    "\n",
    "\n",
    "print(\"a \\tb \\ta^b \\ta<=>b\")\n",
    "for a in [True, False]:\n",
    "    for b in [True, False]:\n",
    "        print(f\"{a}\\t{b}\\t{f1(a,b)}\\t{f2(a,b)}\")"
   ]
  },
  {
   "cell_type": "markdown",
   "id": "01fd4cf1",
   "metadata": {},
   "source": [
    "Statement $(A\\land B) \\models (A{\\Leftrightarrow}B)$ is true as when $(A\\land B)$ is true, $(A{\\Leftrightarrow}B)$ is also true."
   ]
  },
  {
   "cell_type": "code",
   "execution_count": 2,
   "id": "985b995d",
   "metadata": {},
   "outputs": [
    {
     "name": "stdout",
     "output_type": "stream",
     "text": [
      "a \tb \ta<=>b \ta\\/b\n",
      "True\tTrue\tTrue\tTrue\n",
      "True\tFalse\tFalse\tTrue\n",
      "False\tTrue\tFalse\tTrue\n",
      "False\tFalse\tTrue\tFalse\n"
     ]
    }
   ],
   "source": [
    "# Task 2c) - 2.\n",
    "def f1(a, b):\n",
    "    return (a and b) or (not a and not b)\n",
    "\n",
    "\n",
    "def f2(a, b):\n",
    "    return a or b\n",
    "\n",
    "\n",
    "print(\"a \\tb \\ta<=>b \\ta\\/b\")\n",
    "for a in [True, False]:\n",
    "    for b in [True, False]:\n",
    "        print(f\"{a}\\t{b}\\t{f1(a, b)}\\t{f2(a, b)}\")"
   ]
  },
  {
   "cell_type": "markdown",
   "id": "999abfed",
   "metadata": {},
   "source": [
    "Statement $A\\Leftrightarrow B \\models A \\lor B$ is false as when $A\\Leftrightarrow B$ is true, one of the logic value for $A \\lor B$ is false."
   ]
  },
  {
   "cell_type": "code",
   "execution_count": 1,
   "id": "743fd4c0",
   "metadata": {},
   "outputs": [
    {
     "name": "stdout",
     "output_type": "stream",
     "text": [
      "a \tb \ta<=>b \tnot a\\/b\n",
      "True\tTrue\tTrue\tTrue\n",
      "True\tFalse\tFalse\tFalse\n",
      "False\tTrue\tFalse\tTrue\n",
      "False\tFalse\tTrue\tTrue\n"
     ]
    }
   ],
   "source": [
    "# Task 2c) - 3.\n",
    "def f1(a, b):\n",
    "    return (a and b) or (not a and not b)\n",
    "\n",
    "\n",
    "def f2(a, b):\n",
    "    return not a or b\n",
    "\n",
    "\n",
    "print(\"a \\tb \\ta<=>b \\tnot a\\/b\")\n",
    "for a in [True, False]:\n",
    "    for b in [True, False]:\n",
    "        print(f\"{a}\\t{b}\\t{f1(a, b)}\\t{f2(a, b)}\")"
   ]
  },
  {
   "cell_type": "markdown",
   "id": "f2dfb587",
   "metadata": {},
   "source": [
    "Statement $A\\Leftrightarrow B \\models \\lnot A \\lor B$ is true as when $A\\Leftrightarrow B$ is true, $\\lnot A \\lor B$ is also true."
   ]
  },
  {
   "cell_type": "markdown",
   "id": "6f9d270d",
   "metadata": {},
   "source": [
    "## Task 3 - Coding"
   ]
  },
  {
   "cell_type": "markdown",
   "id": "2e39b0ad",
   "metadata": {},
   "source": [
    "Write a recursive algorithm IsPLTrue $(sentence, m)$ that returns ${true}$ if and only if the sentence $s$ is true in the model $m$ (where $m$ assigns a truth value for every symbol in $s$).\n",
    "\n",
    "Use pseudo code only as we dont have enough definitions to write python code!"
   ]
  },
  {
   "cell_type": "markdown",
   "id": "ad979ba4",
   "metadata": {},
   "source": [
    "```cpp\n",
    "function IsPLTrue(sentence, m):\n",
    "    if sentence is a single symbol 's':\n",
    "        return m[s] \n",
    "        // return truth value assigned to the symbol\n",
    "\n",
    "    else if sentence is in the form \"NOT p\":\n",
    "        return NOT IsPLTrue(p, m)\n",
    "        // recursively evaluate truth value of NOT p\n",
    "\n",
    "    else if sentence is in the form \"p AND q\":\n",
    "        return IsPLTrue(p, m) AND IsPLTrue(q, m)\n",
    "        // recursively evaluate truth value of p AND q\n",
    "\n",
    "    else if sentence is in the form \"p OR q\":\n",
    "        return IsPLTrue(p, m) OR IsPLTrue(q, m)\n",
    "        // recursively evaluate truth value of p OR q\n",
    "\n",
    "    else if sentence is in the form \"p IMPLIES q\":\n",
    "        return NOT IsPLTrue(p, m) OR IsPLTrue(q, m)\n",
    "        // recursively evaluate truth value of NOT p OR q\n",
    "\n",
    "    else if sentence is in the form \"p IFF q\":\n",
    "        return (IsPLTrue(p, m) AND IsPLTrue(q, m)) OR (NOT IsPLTrue(p, m) AND NOT IsPLTrue(q, m))\n",
    "        // recursively evaluate truth value of (p AND q) OR (NOT p AND NOT q)\n",
    "```"
   ]
  }
 ],
 "metadata": {
  "kernelspec": {
   "display_name": "Python 3 (ipykernel)",
   "language": "python",
   "name": "python3"
  },
  "language_info": {
   "codemirror_mode": {
    "name": "ipython",
    "version": 3
   },
   "file_extension": ".py",
   "mimetype": "text/x-python",
   "name": "python",
   "nbconvert_exporter": "python",
   "pygments_lexer": "ipython3",
   "version": "3.11.7"
  }
 },
 "nbformat": 4,
 "nbformat_minor": 5
}
