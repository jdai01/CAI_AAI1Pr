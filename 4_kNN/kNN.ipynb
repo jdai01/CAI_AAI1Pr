{
 "cells": [
  {
   "cell_type": "markdown",
   "id": "83d20994",
   "metadata": {},
   "source": [
    "# k-Nearest Neighbor"
   ]
  },
  {
   "cell_type": "raw",
   "id": "01accbd5",
   "metadata": {},
   "source": [
    "1) Implement the k-Nearest Neighbor algorithm with Python!\n",
    "2) It should be applicable for classification and regression tasks!\n",
    "3) Extend your algorithm with a weighting function (see the lecture slides)"
   ]
  },
  {
   "cell_type": "code",
   "execution_count": null,
   "id": "b1b78408",
   "metadata": {},
   "outputs": [],
   "source": [
    "import numpy as np"
   ]
  },
  {
   "cell_type": "code",
   "execution_count": null,
   "id": "deb6a6bf",
   "metadata": {},
   "outputs": [],
   "source": [
    "# YOUR CODE HERE"
   ]
  },
  {
   "cell_type": "markdown",
   "id": "3de8f1a5",
   "metadata": {},
   "source": [
    "## Compare the results with the sklearn kNN algorithm"
   ]
  },
  {
   "cell_type": "code",
   "execution_count": null,
   "id": "76cd6b19",
   "metadata": {},
   "outputs": [],
   "source": [
    "# Make your code work with the following inputs:\n",
    "# Use this data as your reference data points and labels\n",
    "\n",
    "# Classification data\n",
    "cl_X = np.arange(0, 9).reshape(9,1)\n",
    "cl_y = np.array([0, 0, 0, 1, 1, 1, 2, 2, 2])\n",
    "# print('Classification input:\\n', X, '\\tShape:', cl_X.shape)\n",
    "# print('Classification labels:\\n', y, '\\tShape:', cl_y.shape)\n",
    "\n",
    "\n",
    "# Regression data\n",
    "r_X = np.array([[1, 2], [2, 4], [3, 6], [4, 8], [5, 10]])\n",
    "r_y = np.array([1, 2, 3, 4, 5])\n",
    "# print('Regression input:\\n', r_X, '\\tShape:', r_X.shape)\n",
    "# print('Regression labels:\\n', r_y, '\\tShape:', r_y.shape)\n",
    "\n",
    "\n",
    "# Use the following list to test your code for classification\n",
    "cl_X_test = np.array([[2.1], [5.2], [7.2]])\n",
    "\n",
    "r_X_test = np.array([[2.1, 5.1], [2.6, 6.2]])"
   ]
  },
  {
   "cell_type": "code",
   "execution_count": 2,
   "id": "f76d236e",
   "metadata": {},
   "outputs": [],
   "source": [
    "# classification (dont forget the weighting function)\n",
    "\n",
    "# yours\n",
    "\n",
    "# sklearn comparison"
   ]
  },
  {
   "cell_type": "code",
   "execution_count": 1,
   "id": "1c588159",
   "metadata": {},
   "outputs": [],
   "source": [
    "# regression (dont forget the weighting function)\n",
    "\n",
    "# yours\n",
    "\n",
    "# sklearn comparison"
   ]
  },
  {
   "cell_type": "code",
   "execution_count": null,
   "id": "947966cd",
   "metadata": {},
   "outputs": [],
   "source": []
  }
 ],
 "metadata": {
  "kernelspec": {
   "display_name": "Python 3 (ipykernel)",
   "language": "python",
   "name": "python3"
  },
  "language_info": {
   "codemirror_mode": {
    "name": "ipython",
    "version": 3
   },
   "file_extension": ".py",
   "mimetype": "text/x-python",
   "name": "python",
   "nbconvert_exporter": "python",
   "pygments_lexer": "ipython3",
   "version": "3.8.8"
  }
 },
 "nbformat": 4,
 "nbformat_minor": 5
}
