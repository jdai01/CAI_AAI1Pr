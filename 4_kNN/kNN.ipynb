{
 "cells": [
  {
   "cell_type": "markdown",
   "id": "83d20994",
   "metadata": {},
   "source": [
    "# k-Nearest Neighbor"
   ]
  },
  {
   "cell_type": "markdown",
   "id": "01accbd5",
   "metadata": {},
   "source": [
    "1) Implement the k-Nearest Neighbor algorithm with Python!\n",
    "2) It should be applicable for classification and regression tasks!\n",
    "3) Extend your algorithm with a weighting function (see the lecture slides)"
   ]
  },
  {
   "cell_type": "code",
   "execution_count": 6,
   "id": "b1b78408",
   "metadata": {},
   "outputs": [],
   "source": [
    "import numpy as np\n",
    "from collections import Counter\n",
    "from sklearn.metrics import mean_squared_error, accuracy_score\n",
    "from sklearn.neighbors import KNeighborsClassifier, KNeighborsRegressor\n"
   ]
  },
  {
   "cell_type": "code",
   "execution_count": 15,
   "id": "84b29b3c",
   "metadata": {},
   "outputs": [],
   "source": [
    "# YOUR CODE HERE\n",
    "\n",
    "class PythonKNN:\n",
    "    def __init__(self, k=3, task='classification', distance_metric='euclidean', weight_function=None): # default k = 3\n",
    "        self.k = k\n",
    "        self.task = task.lower()\n",
    "        self.distance_metric = distance_metric\n",
    "        self.weight_function = weight_function\n",
    "\n",
    "        # Initialiser\n",
    "        self.X_train = None\n",
    "        self.y_train = None\n",
    "\n",
    "    def fit(self, X, y):\n",
    "        self.X_train = X\n",
    "        self.y_train = y\n",
    "\n",
    "    def distance(self, x1, x2):\n",
    "        if self.distance_metric == 'euclidean':\n",
    "            return np.sqrt(np.sum((x1 - x2) ** 2))\n",
    "        else:\n",
    "            raise ValueError(\"Unsupported distance metric\")\n",
    "\n",
    "    def predict(self, X):\n",
    "        predictions = []\n",
    "\n",
    "        for x in X:\n",
    "            # compute the distance\n",
    "            distances = np.array([self.distance(x, x_train) for x_train in self.X_train])\n",
    "\n",
    "            # get the closest k\n",
    "            k_indices = np.argsort(distances)[:self.k] # indices of the training datapoints, sorted by their distance to the given test point)\n",
    "            k_nearest_labels = self.y_train[k_indices] # list of labels corresponding to k_indices\n",
    "            k_nearest_distance = distances[k_indices] # list of actual distances between test points and the nearest k\n",
    "\n",
    "\n",
    "            # If weight function exists\n",
    "            if self.weight_function:\n",
    "                weights = self.weight_function(k_nearest_distance) \n",
    "            else: \n",
    "                weights = np.ones(len(k_nearest_distance)) # default weight = 1\n",
    "\n",
    "\n",
    "            if self.task == 'classification':\n",
    "                weighted_counter = Counter()\n",
    "                for i, label in enumerate(k_nearest_labels):\n",
    "                    weighted_counter[label] += weights[i]\n",
    "                prediction = max(weighted_counter, key=weighted_counter.get) # Get most common class\n",
    "            elif self.task == 'regression':\n",
    "                prediction = np.dot(k_nearest_labels, weights) / np.sum(weights)\n",
    "            else:\n",
    "                raise ValueError(\"Unsupported task\")\n",
    "            \n",
    "            predictions.append(prediction)\n",
    "\n",
    "\n",
    "        return predictions\n",
    "    "
   ]
  },
  {
   "cell_type": "code",
   "execution_count": 8,
   "id": "987f29d4",
   "metadata": {},
   "outputs": [],
   "source": [
    "# Weighing function for inverse distance\n",
    "def inverse_distance_weight(distance):\n",
    "    return 1 / (distance + 1e-9) # 1e-9 is added to ensure no division by 0"
   ]
  },
  {
   "cell_type": "markdown",
   "id": "3de8f1a5",
   "metadata": {},
   "source": [
    "## Compare the results with the sklearn kNN algorithm"
   ]
  },
  {
   "cell_type": "code",
   "execution_count": 17,
   "id": "76cd6b19",
   "metadata": {},
   "outputs": [
    {
     "name": "stdout",
     "output_type": "stream",
     "text": [
      "Classification input:\n",
      " [[0]\n",
      " [1]\n",
      " [2]\n",
      " [3]\n",
      " [4]\n",
      " [5]\n",
      " [6]\n",
      " [7]\n",
      " [8]] \tShape: (9, 1)\n",
      "Classification labels:\n",
      " [0 0 0 1 1 1 2 2 2] \tShape: (9,)\n",
      "Regression input:\n",
      " [[ 1  2]\n",
      " [ 2  4]\n",
      " [ 3  6]\n",
      " [ 4  8]\n",
      " [ 5 10]] \tShape: (5, 2)\n",
      "Regression labels:\n",
      " [1 2 3 4 5] \tShape: (5,)\n"
     ]
    }
   ],
   "source": [
    "# Make your code work with the following inputs:\n",
    "# Use this data as your reference data points and labels\n",
    "\n",
    "# Classification data\n",
    "cl_X = np.arange(0, 9).reshape(9,1)\n",
    "cl_y = np.array([0, 0, 0, 1, 1, 1, 2, 2, 2])\n",
    "print('Classification input:\\n', cl_X, '\\tShape:', cl_X.shape)\n",
    "print('Classification labels:\\n', cl_y, '\\tShape:', cl_y.shape)\n",
    "\n",
    "\n",
    "# Regression data\n",
    "r_X = np.array([[1, 2], [2, 4], [3, 6], [4, 8], [5, 10]])\n",
    "r_y = np.array([1, 2, 3, 4, 5])\n",
    "print('Regression input:\\n', r_X, '\\tShape:', r_X.shape)\n",
    "print('Regression labels:\\n', r_y, '\\tShape:', r_y.shape)\n",
    "\n",
    "\n",
    "# Use the following list to test your code for classification\n",
    "cl_X_test = np.array([[2.1], [5.2], [7.2]])\n",
    "\n",
    "r_X_test = np.array([[2.1, 5.1], [2.6, 6.2]])"
   ]
  },
  {
   "cell_type": "code",
   "execution_count": 16,
   "id": "f76d236e",
   "metadata": {},
   "outputs": [
    {
     "name": "stdout",
     "output_type": "stream",
     "text": [
      "Classification Predictions\n",
      "Python KNN: [0, 1, 2]\n",
      "sklearn KNN: [0 1 2]\n",
      "Accuracy: 1.0\n"
     ]
    }
   ],
   "source": [
    "# classification (dont forget the weighting function)\n",
    "print(\"Classification Predictions\")\n",
    "\n",
    "# yours\n",
    "python_knn_cl = PythonKNN(k=3, task='classification', weight_function=inverse_distance_weight)\n",
    "python_knn_cl.fit(cl_X, cl_y)\n",
    "python_knn_cl_predictions = python_knn_cl.predict(cl_X_test)\n",
    "print(f\"Python KNN: {python_knn_cl_predictions}\")\n",
    "\n",
    "# sklearn comparison\n",
    "sklearn_knn_cl = KNeighborsClassifier(n_neighbors=3, weights='distance')\n",
    "sklearn_knn_cl.fit(cl_X, cl_y)\n",
    "sklearn_cl_predictions = sklearn_knn_cl.predict(cl_X_test)\n",
    "print(f\"sklearn KNN: {sklearn_cl_predictions}\")\n",
    "\n",
    "# Accuracy score\n",
    "classification_accuracy = accuracy_score(sklearn_cl_predictions, python_knn_cl_predictions)\n",
    "print(f\"Accuracy: {classification_accuracy}\")"
   ]
  },
  {
   "cell_type": "code",
   "execution_count": 37,
   "id": "1c588159",
   "metadata": {},
   "outputs": [
    {
     "name": "stdout",
     "output_type": "stream",
     "text": [
      "Regression Predictions\n",
      "Python KNN: [2.2414313012651355, 3.0]\n",
      "sklearn KNN: [2.2414313 3.       ]\n",
      "MSE: 3.042402328611397e-21\n"
     ]
    }
   ],
   "source": [
    "# regression (dont forget the weighting function)\n",
    "print(\"Regression Predictions\")\n",
    "\n",
    "# yours\n",
    "python_knn_r = PythonKNN(k=3, task='regression', weight_function=inverse_distance_weight)\n",
    "python_knn_r.fit(r_X, r_y)\n",
    "python_knn_r_predictions = python_knn_r.predict(r_X_test)\n",
    "print(f\"Python KNN: {python_knn_r_predictions}\")\n",
    "\n",
    "# sklearn comparison\n",
    "sklearn_knn_r = KNeighborsRegressor(n_neighbors=3, weights='distance')\n",
    "sklearn_knn_r.fit(r_X, r_y)\n",
    "sklearn_r_predictions = sklearn_knn_r.predict(r_X_test)\n",
    "print(f\"sklearn KNN: {sklearn_r_predictions}\")\n",
    "\n",
    "# Mean square error (MSE)\n",
    "regression_mse = mean_squared_error(sklearn_r_predictions, python_knn_r_predictions)\n",
    "print(f\"MSE: {regression_mse}\")"
   ]
  }
 ],
 "metadata": {
  "kernelspec": {
   "display_name": "Python 3 (ipykernel)",
   "language": "python",
   "name": "python3"
  },
  "language_info": {
   "codemirror_mode": {
    "name": "ipython",
    "version": 3
   },
   "file_extension": ".py",
   "mimetype": "text/x-python",
   "name": "python",
   "nbconvert_exporter": "python",
   "pygments_lexer": "ipython3",
   "version": "3.9.19"
  }
 },
 "nbformat": 4,
 "nbformat_minor": 5
}
