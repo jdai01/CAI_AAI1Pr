{
 "cells": [
  {
   "cell_type": "markdown",
   "id": "67bf55f0",
   "metadata": {},
   "source": [
    "# From data pre-processing to the use of algorithms"
   ]
  },
  {
   "cell_type": "code",
   "execution_count": null,
   "id": "94638015",
   "metadata": {},
   "outputs": [],
   "source": [
    "from sklearn.datasets import load_breast_cancer\n",
    "import pandas as pd\n",
    "import numpy as np\n",
    "from sklearn.neighbors import KNeighborsClassifier\n",
    "from sklearn.linear_model import LogisticRegression\n",
    "from sklearn.ensemble import RandomForestClassifier\n",
    "from sklearn import svm\n",
    "from sklearn.model_selection import train_test_split\n",
    "import random\n",
    "random.seed(42)\n",
    "np.random.seed(42)"
   ]
  },
  {
   "cell_type": "code",
   "execution_count": null,
   "id": "e3493b07",
   "metadata": {},
   "outputs": [],
   "source": [
    "def calculate_accuracy(y, y_pred):\n",
    "    res = y == y_pred\n",
    "    return np.mean(res)"
   ]
  },
  {
   "cell_type": "code",
   "execution_count": null,
   "id": "77254a86",
   "metadata": {},
   "outputs": [],
   "source": [
    "data = load_breast_cancer()\n",
    "df = pd.DataFrame(data.data, columns=[data.feature_names])\n",
    "df['target'] = pd.Series(data=data.target, index=df.index)\n",
    "df"
   ]
  },
  {
   "cell_type": "markdown",
   "id": "9b712ab4",
   "metadata": {},
   "source": [
    "## Data pre-processing"
   ]
  },
  {
   "cell_type": "markdown",
   "id": "b3201416",
   "metadata": {},
   "source": [
    "### How much data rows and columns do we have?"
   ]
  },
  {
   "cell_type": "code",
   "execution_count": null,
   "id": "267bb2d7",
   "metadata": {},
   "outputs": [],
   "source": []
  },
  {
   "cell_type": "markdown",
   "id": "580a0ed3",
   "metadata": {},
   "source": [
    "### How much malignent data rows and benign data rows do we have? (target column)"
   ]
  },
  {
   "cell_type": "code",
   "execution_count": null,
   "id": "4d54df1b",
   "metadata": {},
   "outputs": [],
   "source": []
  },
  {
   "cell_type": "markdown",
   "id": "73282723",
   "metadata": {},
   "source": [
    "### Check for null values and decide on what you are doing with them"
   ]
  },
  {
   "cell_type": "code",
   "execution_count": null,
   "id": "b7da5949",
   "metadata": {},
   "outputs": [],
   "source": []
  },
  {
   "cell_type": "markdown",
   "id": "b598ecd1",
   "metadata": {},
   "source": [
    "### What are the data types of the columns, do we need to one-hot encode anything here?"
   ]
  },
  {
   "cell_type": "code",
   "execution_count": null,
   "id": "d4f2a60f",
   "metadata": {},
   "outputs": [],
   "source": []
  },
  {
   "cell_type": "markdown",
   "id": "2a895efe",
   "metadata": {},
   "source": [
    "### Are there values that need to be normalized? If so, then normalize them before putting them into the algorithms"
   ]
  },
  {
   "cell_type": "code",
   "execution_count": null,
   "id": "9a6cecdb",
   "metadata": {},
   "outputs": [],
   "source": []
  },
  {
   "cell_type": "markdown",
   "id": "938cf9c0",
   "metadata": {},
   "source": [
    "### Feature selection"
   ]
  },
  {
   "cell_type": "code",
   "execution_count": null,
   "id": "105c8452",
   "metadata": {},
   "outputs": [],
   "source": [
    "# We have 30 dimensions in this dataset which is a lot!\n",
    "# Lets use a basic random forest algorithm for sklearn and only use the most influential features!\n",
    "# the random forest implementation has an 'feature_importances_' attribute that you can call\n",
    "# use only the top 10 features"
   ]
  },
  {
   "cell_type": "code",
   "execution_count": null,
   "id": "9df1c974",
   "metadata": {},
   "outputs": [],
   "source": [
    "# data X with labels y\n",
    "X, y = df.iloc[:,:-1], df.iloc[:,-1]\n",
    "X = X.to_numpy()\n",
    "y = y.to_numpy()\n",
    "\n",
    "# split them into train and test\n",
    "X_train, X_test, y_train, y_test = train_test_split(\n",
    "    X, y, test_size=0.2, shuffle=True\n",
    ")"
   ]
  },
  {
   "cell_type": "code",
   "execution_count": null,
   "id": "e020f662",
   "metadata": {},
   "outputs": [],
   "source": [
    "clf = RandomForestClassifier(n_estimators=3, random_state=42)\n",
    "clf.fit(X_train, y_train)"
   ]
  },
  {
   "cell_type": "code",
   "execution_count": null,
   "id": "faf271cd",
   "metadata": {},
   "outputs": [],
   "source": [
    "feature_importances = clf.feature_importances_\n",
    "important_features = np.argsort(feature_importances)[-20:]\n",
    "X_train = X_train[:,important_features]\n",
    "X_test = X_test[:,important_features]"
   ]
  },
  {
   "cell_type": "markdown",
   "id": "9a0bc831",
   "metadata": {},
   "source": [
    "## Algorithms"
   ]
  },
  {
   "cell_type": "code",
   "execution_count": null,
   "id": "33ba3793",
   "metadata": {},
   "outputs": [],
   "source": [
    "# Use the sklearn library to execute the following algorithms\n",
    "# Print the accuracies of all models by using the calculate_accuarcy method from above"
   ]
  },
  {
   "cell_type": "markdown",
   "id": "767ea198",
   "metadata": {},
   "source": [
    "### k-NN"
   ]
  },
  {
   "cell_type": "code",
   "execution_count": null,
   "id": "ef32a5f0",
   "metadata": {},
   "outputs": [],
   "source": []
  },
  {
   "cell_type": "markdown",
   "id": "6f89decd",
   "metadata": {},
   "source": [
    "### Logistic Regression"
   ]
  },
  {
   "cell_type": "code",
   "execution_count": null,
   "id": "4b4fb85c",
   "metadata": {},
   "outputs": [],
   "source": []
  },
  {
   "cell_type": "markdown",
   "id": "70be9dde",
   "metadata": {},
   "source": [
    "### Support Vector Machine"
   ]
  },
  {
   "cell_type": "code",
   "execution_count": null,
   "id": "066c641b",
   "metadata": {},
   "outputs": [],
   "source": []
  },
  {
   "cell_type": "markdown",
   "id": "251590d2",
   "metadata": {},
   "source": [
    "### Random Forest Classifier"
   ]
  },
  {
   "cell_type": "code",
   "execution_count": null,
   "id": "84350c5d",
   "metadata": {},
   "outputs": [],
   "source": []
  },
  {
   "cell_type": "markdown",
   "id": "ddf13aad",
   "metadata": {},
   "source": [
    "## What happens if you use the following dataset?"
   ]
  },
  {
   "cell_type": "code",
   "execution_count": null,
   "id": "38ed84a5",
   "metadata": {},
   "outputs": [],
   "source": [
    "def create_dataset():\n",
    "    # Create dataset\n",
    "    np.random.seed(42)  # always the same data generation\n",
    "    X = np.stack((np.random.normal(size=100),np.random.normal(size=100)),axis = 1)\n",
    "    y = np.array([1 if (xy[0]**2+xy[1]**2)**0.5 <0.5 else 0 for xy in X])\n",
    "    \n",
    "    return X, y"
   ]
  },
  {
   "cell_type": "code",
   "execution_count": null,
   "id": "1d388d9a",
   "metadata": {},
   "outputs": [],
   "source": [
    "X, y = create_dataset()\n",
    "# split them into train and test\n",
    "X_train, X_test, y_train, y_test = train_test_split(\n",
    "    X, y, test_size=0.2, shuffle=True\n",
    ")"
   ]
  },
  {
   "cell_type": "markdown",
   "id": "b0e53fff",
   "metadata": {},
   "source": [
    "### k-NN"
   ]
  },
  {
   "cell_type": "code",
   "execution_count": null,
   "id": "796dc5cc",
   "metadata": {},
   "outputs": [],
   "source": []
  },
  {
   "cell_type": "markdown",
   "id": "227cdebb",
   "metadata": {},
   "source": [
    "### Logistic regression"
   ]
  },
  {
   "cell_type": "code",
   "execution_count": null,
   "id": "18ba9cc1",
   "metadata": {},
   "outputs": [],
   "source": []
  },
  {
   "cell_type": "markdown",
   "id": "89d98381",
   "metadata": {},
   "source": [
    "### Support Vector Machine"
   ]
  },
  {
   "cell_type": "code",
   "execution_count": null,
   "id": "c61a975f",
   "metadata": {},
   "outputs": [],
   "source": []
  },
  {
   "cell_type": "markdown",
   "id": "f7f74e0b",
   "metadata": {},
   "source": [
    "### Random Forest Classifier"
   ]
  },
  {
   "cell_type": "code",
   "execution_count": null,
   "id": "62269fbe",
   "metadata": {},
   "outputs": [],
   "source": []
  }
 ],
 "metadata": {
  "kernelspec": {
   "display_name": "Python 3 (ipykernel)",
   "language": "python",
   "name": "python3"
  },
  "language_info": {
   "codemirror_mode": {
    "name": "ipython",
    "version": 3
   },
   "file_extension": ".py",
   "mimetype": "text/x-python",
   "name": "python",
   "nbconvert_exporter": "python",
   "pygments_lexer": "ipython3",
   "version": "3.8.8"
  }
 },
 "nbformat": 4,
 "nbformat_minor": 5
}
